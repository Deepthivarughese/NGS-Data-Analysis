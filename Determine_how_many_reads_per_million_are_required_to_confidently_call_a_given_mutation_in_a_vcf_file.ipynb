{
  "nbformat": 4,
  "nbformat_minor": 0,
  "metadata": {
    "colab": {
      "provenance": [],
      "authorship_tag": "ABX9TyPPr5MiYhA+GmsAD0uETfL1",
      "include_colab_link": true
    },
    "kernelspec": {
      "name": "python3",
      "display_name": "Python 3"
    },
    "language_info": {
      "name": "python"
    }
  },
  "cells": [
    {
      "cell_type": "markdown",
      "metadata": {
        "id": "view-in-github",
        "colab_type": "text"
      },
      "source": [
        "<a href=\"https://colab.research.google.com/github/Deepthivarughese/NGS-Data-Analysis/blob/main/Determine_how_many_reads_per_million_are_required_to_confidently_call_a_given_mutation_in_a_vcf_file.ipynb\" target=\"_parent\"><img src=\"https://colab.research.google.com/assets/colab-badge.svg\" alt=\"Open In Colab\"/></a>"
      ]
    },
    {
      "cell_type": "markdown",
      "source": [
        "# *****This is python code developed in google colab to  Determine how many reads per million are required to confidently call a given mutation in a vcf file******\n"
      ],
      "metadata": {
        "id": "kLsWcKjOqs1c"
      }
    },
    {
      "cell_type": "markdown",
      "source": [
        "Parse the VCF File for Normal Tissue:\n",
        "\n",
        "Using python or R, parse the VCF file to calculate the background mutation rate.\n",
        "\n",
        "Python Script for Background Mutation Level:\n",
        "\n",
        "Here's a sample Python code that can process the VCF and calculate the background mutation rate."
      ],
      "metadata": {
        "id": "4TUNEd-z9YcM"
      }
    },
    {
      "cell_type": "code",
      "source": [
        "!pip install vcfpy"
      ],
      "metadata": {
        "id": "-Ttu1vms9qIY"
      },
      "execution_count": null,
      "outputs": []
    },
    {
      "cell_type": "code",
      "source": [
        "import vcfpy\n",
        "import numpy as np"
      ],
      "metadata": {
        "id": "dRhC4sEm9dn-"
      },
      "execution_count": null,
      "outputs": []
    },
    {
      "cell_type": "code",
      "source": [
        "# Example path to your VCF file (replace with your actual file)\n",
        "vcf_file = 'normal_variants.vcf'\n",
        "\n",
        "# Open the VCF file\n",
        "reader = vcfpy.Reader.from_path(vcf_file)\n",
        "\n",
        "mutations = []"
      ],
      "metadata": {
        "id": "0S6fY47E_C3b"
      },
      "execution_count": null,
      "outputs": []
    },
    {
      "cell_type": "code",
      "source": [
        "# Collect mutations\n",
        "for record in reader:\n",
        "    ref_count = record.INFO.get('REF_COUNT', 0)\n",
        "    alt_count = record.INFO.get('ALT_COUNT', 0)\n",
        "    depth = record.INFO.get('DP', 0)  # Depth of coverage for each variant\n"
      ],
      "metadata": {
        "id": "VuDiUvQ7_MMA"
      },
      "execution_count": null,
      "outputs": []
    },
    {
      "cell_type": "code",
      "source": [
        "    # Store mutation frequency per position\n",
        "    mutations.append(alt_count / depth if depth > 0 else 0)"
      ],
      "metadata": {
        "id": "9JxVsw2p_us6"
      },
      "execution_count": null,
      "outputs": []
    },
    {
      "cell_type": "code",
      "source": [
        "    # Store mutation frequency per position\n",
        "    mutations.append(alt_count / depth if depth > 0 else 0)"
      ],
      "metadata": {
        "id": "vN--J2mcAQNT"
      },
      "execution_count": null,
      "outputs": []
    },
    {
      "cell_type": "code",
      "source": [
        "# Calculate the median mutation frequency\n",
        "median_mutation_level = np.median(mutations)\n",
        "print(f'Median Background Mutation Level: {median_mutation_level}')"
      ],
      "metadata": {
        "id": "sl8PmGTMArmG"
      },
      "execution_count": null,
      "outputs": []
    },
    {
      "cell_type": "code",
      "source": [
        "# To determine the Reads per Million\n",
        "mutation_threshold = median_mutation_level * 5  # Example threshold (e.g., 5 times background level)\n",
        "print(f'Mutation Threshold: {mutation_threshold} mutations per million reads')\n"
      ],
      "metadata": {
        "id": "KToX9HoCCV14"
      },
      "execution_count": null,
      "outputs": []
    }
  ]
}