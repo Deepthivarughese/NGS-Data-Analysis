{
  "nbformat": 4,
  "nbformat_minor": 0,
  "metadata": {
    "colab": {
      "provenance": [],
      "authorship_tag": "ABX9TyMTAGWrL2V8gtM4BjloerUV",
      "include_colab_link": true
    },
    "kernelspec": {
      "name": "python3",
      "display_name": "Python 3"
    },
    "language_info": {
      "name": "python"
    }
  },
  "cells": [
    {
      "cell_type": "markdown",
      "metadata": {
        "id": "view-in-github",
        "colab_type": "text"
      },
      "source": [
        "<a href=\"https://colab.research.google.com/github/Deepthivarughese/NGS-Data-Analysis/blob/main/Alignment_using_BWA_and_Mutation_calling_using_Mutect2_.ipynb\" target=\"_parent\"><img src=\"https://colab.research.google.com/assets/colab-badge.svg\" alt=\"Open In Colab\"/></a>"
      ]
    },
    {
      "cell_type": "code",
      "execution_count": null,
      "metadata": {
        "id": "bNq5v02OO987"
      },
      "outputs": [],
      "source": [
        "!apt-get install openjdk-11-jre -y"
      ]
    },
    {
      "cell_type": "code",
      "source": [
        "!wget https://github.com/broadinstitute/gatk/releases/download/4.3.0.0/gatk-4.3.0.0.zip\n"
      ],
      "metadata": {
        "id": "w6pAHZksPMzI",
        "collapsed": true
      },
      "execution_count": null,
      "outputs": []
    },
    {
      "cell_type": "code",
      "source": [
        "!unzip gatk-4.3.0.0.zip"
      ],
      "metadata": {
        "id": "DkYiA_v2PSHg",
        "collapsed": true
      },
      "execution_count": null,
      "outputs": []
    },
    {
      "cell_type": "code",
      "source": [
        "import os\n",
        "os.environ['GATK_HOME'] = '/content/gatk-4.3.0.0'\n",
        "os.environ['PATH'] += ':/content/gatk-4.3.0.0'"
      ],
      "metadata": {
        "id": "bwHq_0RyPccp"
      },
      "execution_count": null,
      "outputs": []
    },
    {
      "cell_type": "code",
      "source": [
        "!gatk --version"
      ],
      "metadata": {
        "id": "gloCL9A6PlUR",
        "collapsed": true
      },
      "execution_count": null,
      "outputs": []
    },
    {
      "cell_type": "code",
      "source": [
        "# Install BWA, SAMtools\n",
        "!apt-get update\n",
        "!apt-get install -y bwa samtools"
      ],
      "metadata": {
        "id": "QOfhA95gvD0y",
        "collapsed": true
      },
      "execution_count": null,
      "outputs": []
    },
    {
      "cell_type": "code",
      "source": [
        "from google.colab import files\n",
        "uploaded = files.upload()"
      ],
      "metadata": {
        "id": "G8jDDvhuvQg9"
      },
      "execution_count": null,
      "outputs": []
    },
    {
      "cell_type": "code",
      "source": [
        "!wget ftp://hgdownload.cse.ucsc.edu/goldenPath/hg38/bigZips/hg38.fa.gz\n",
        "!gunzip hg38.fa.gz"
      ],
      "metadata": {
        "id": "3OXEmk7BXEDY",
        "collapsed": true
      },
      "execution_count": null,
      "outputs": []
    },
    {
      "cell_type": "code",
      "source": [
        "!bwa index hg38.fa"
      ],
      "metadata": {
        "id": "uvZlRe2eXMDx",
        "collapsed": true
      },
      "execution_count": null,
      "outputs": []
    },
    {
      "cell_type": "code",
      "source": [
        "!bwa mem hg38.fa Norm_R1.fastq Norm_R2.fastq > normal_aligned.sam\n",
        "!bwa mem hg38.fa Tumor_R1.fastq Tumor_R2.fastq > tumor_aligned.sam"
      ],
      "metadata": {
        "id": "1Z_rxbWyO1Ga",
        "collapsed": true
      },
      "execution_count": null,
      "outputs": []
    },
    {
      "cell_type": "code",
      "source": [
        "!samtools view -Sb normal_aligned.sam > normal_aligned.bam\n",
        "!samtools view -Sb tumor_aligned.sam > tumor_aligned.bam"
      ],
      "metadata": {
        "id": "r-or2PFWVhBb"
      },
      "execution_count": null,
      "outputs": []
    },
    {
      "cell_type": "code",
      "source": [
        "!samtools sort normal_aligned.bam -o normal_sorted.bam\n",
        "!samtools sort tumor_aligned.bam -o tumor_sorted.bam"
      ],
      "metadata": {
        "id": "C49xRww-WpXK"
      },
      "execution_count": null,
      "outputs": []
    },
    {
      "cell_type": "code",
      "source": [
        "!samtools index normal_sorted.bam\n",
        "!samtools index tumor_sorted.bam"
      ],
      "metadata": {
        "id": "NfdYAGkmXQYM"
      },
      "execution_count": null,
      "outputs": []
    },
    {
      "cell_type": "code",
      "source": [
        "!gatk MarkDuplicates -I normal_sorted.bam -O normal_marked.bam -M normal_metrics.txt\n",
        "!gatk MarkDuplicates -I tumor_sorted.bam -O tumor_marked.bam -M tumor_metrics.txt"
      ],
      "metadata": {
        "id": "QCzJn_j6YUyS",
        "collapsed": true
      },
      "execution_count": null,
      "outputs": []
    },
    {
      "cell_type": "code",
      "source": [
        "# Download the sorted BAM file\n",
        "from google.colab import files\n",
        "files.download('normal_marked.bam')\n",
        "files.download('tumor_marked.bam')"
      ],
      "metadata": {
        "id": "v1tRcjfge9Hc"
      },
      "execution_count": null,
      "outputs": []
    },
    {
      "cell_type": "code",
      "source": [
        "# Download the sorted BAM file\n",
        "from google.colab import files\n",
        "files.download('normal_metrics.txt')\n",
        "files.download('tumor_metrics.txt')"
      ],
      "metadata": {
        "id": "nvmCMmY9fd1B"
      },
      "execution_count": null,
      "outputs": []
    },
    {
      "cell_type": "code",
      "source": [
        "# Base quality score recalibration (this requires known variant sites like dbSNP)\n",
        "!gatk BaseRecalibrator -I normal_marked.bam -R hg38.fa --known-sites dbsnp.vcf -O normal_recal_data.table\n",
        "!gatk BaseRecalibrator -I tumor_marked.bam -R hg38.fa --known-sites dbsnp.vcf -O tumor_recal_data.table\n",
        "\n",
        "# Apply recalibration\n",
        "!gatk ApplyBQSR -I normal_marked.bam -R hg38.fa --bqsr-recal-file normal_recal_data.table -O normal_recalibrated.bam\n",
        "!gatk ApplyBQSR -I tumor_marked.bam -R hg38.fa --bqsr-recal-file tumor_recal_data.table -O tumor_recalibrated.bam\n"
      ],
      "metadata": {
        "id": "Z1DQKFvsgYci",
        "collapsed": true
      },
      "execution_count": null,
      "outputs": []
    },
    {
      "cell_type": "code",
      "source": [
        "!gatk HaplotypeCaller -I normal_recalibrated.bam -R hg38.fa -O normal_variants.vcf\n",
        "!gatk HaplotypeCaller -I tumor_recalibrated.bam -R hg38.fa -O tumor_variants.vcf"
      ],
      "metadata": {
        "id": "-d7X7Ep6gtU1",
        "collapsed": true
      },
      "execution_count": null,
      "outputs": []
    },
    {
      "cell_type": "code",
      "source": [
        "# Generate the index file (.fai)\n",
        "!samtools faidx /content/hg38.fa"
      ],
      "metadata": {
        "id": "xb2OW_rBZzI8"
      },
      "execution_count": null,
      "outputs": []
    },
    {
      "cell_type": "code",
      "source": [
        "normal_bam = \"/content/normal_sorted.bam\"\n",
        "tumor_bam = \"/content/tumor_sorted.bam\"\n",
        "reference = \"/content/hg38.fa\""
      ],
      "metadata": {
        "id": "ySLWHKTGFlao"
      },
      "execution_count": null,
      "outputs": []
    },
    {
      "cell_type": "code",
      "source": [
        "# For Somatic mutation detection\n",
        "!gatk Mutect2 -R {reference} -I {normal_bam} -I {tumor_bam} -O output_mutect2.vcf"
      ],
      "metadata": {
        "id": "B9tX3nQbG2ip",
        "collapsed": true
      },
      "execution_count": null,
      "outputs": []
    },
    {
      "cell_type": "code",
      "source": [
        "# Filter the Mutect2 VCF results\n",
        "!gatk Mutect2 -V output_mutect2.vcf -R {reference} -O filtered_output.vcf"
      ],
      "metadata": {
        "id": "GHNan-cBdLoj"
      },
      "execution_count": null,
      "outputs": []
    },
    {
      "cell_type": "code",
      "source": [
        "from google.colab import files\n",
        "files.download('fileterd_output.vcf')"
      ],
      "metadata": {
        "id": "IFQIdqNUG-Ie"
      },
      "execution_count": null,
      "outputs": []
    }
  ]
}